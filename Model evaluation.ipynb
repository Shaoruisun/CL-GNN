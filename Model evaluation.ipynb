{
 "cells": [
  {
   "cell_type": "code",
   "execution_count": 1,
   "id": "a3dadda1",
   "metadata": {
    "ExecuteTime": {
     "end_time": "2023-09-18T08:29:21.802001Z",
     "start_time": "2023-09-18T08:29:21.799914Z"
    }
   },
   "outputs": [
    {
     "name": "stderr",
     "output_type": "stream",
     "text": [
      "/home/zyj/.conda/envs/DTA/lib/python3.8/site-packages/dgl/graphbolt/__init__.py:114: GBWarning: \n",
      "An experimental feature for CUDA allocations is turned on for better allocation\n",
      "pattern resulting in better memory usage for minibatch GNN training workloads.\n",
      "See https://pytorch.org/docs/stable/notes/cuda.html#optimizing-memory-usage-with-pytorch-cuda-alloc-conf,\n",
      "and set the environment variable `PYTORCH_CUDA_ALLOC_CONF=expandable_segments:False`\n",
      "if you want to disable it and set it True to acknowledge and disable the warning.\n",
      "\n",
      "  gb_warning(WARNING_STR_TO_BE_SHOWN)\n"
     ]
    }
   ],
   "source": [
    "import torch\n",
    "import pandas as pd\n",
    "from dgl.data.utils import load_graphs\n",
    "import numpy as np\n",
    "import dgl\n",
    "from list_dataset import PDBbindDataset\n",
    "from torch.utils.data import DataLoader\n",
    "import dgl\n",
    "import numpy as np\n",
    "import torch\n",
    "from options import prepare_train_args\n",
    "import argparse\n",
    "import sys\n",
    "from fcn import ECIF_GNN\n",
    "\n",
    "from sklearn.metrics import r2_score,mean_squared_error, mean_absolute_error\n",
    "from math import sqrt\n",
    "from scipy import stats"
   ]
  },
  {
   "cell_type": "code",
   "execution_count": 2,
   "id": "8770193a",
   "metadata": {
    "ExecuteTime": {
     "end_time": "2023-09-18T08:29:23.001211Z",
     "start_time": "2023-09-18T08:29:22.783032Z"
    }
   },
   "outputs": [],
   "source": [
    "path_model='./pth/Downstream-test.pth'\n",
    "model=ECIF_GNN(dropout=0)\n",
    "model.load_state_dict(torch.load(path_model),False)\n",
    "device = torch.device(\"cuda:1\" if torch.cuda.is_available() else \"cpu\")"
   ]
  },
  {
   "cell_type": "markdown",
   "id": "1caf98a0",
   "metadata": {},
   "source": [
    "# CASF_2016"
   ]
  },
  {
   "cell_type": "code",
   "execution_count": 3,
   "id": "4958c512",
   "metadata": {
    "ExecuteTime": {
     "end_time": "2023-09-14T10:35:18.319879Z",
     "start_time": "2023-09-14T10:35:09.749669Z"
    }
   },
   "outputs": [
    {
     "name": "stdout",
     "output_type": "stream",
     "text": [
      "Pearson correlation: 0.842\n",
      "R2 0.6990563723980021\n",
      "MSE: 1.4177247383460598\n",
      "RMSE: 1.191\n",
      "MAE: 0.9558\n"
     ]
    }
   ],
   "source": [
    "CASF_2016='./data/CASF_2016'\n",
    "ids_CASF_2016=\"%s/out_id_CASF_2016_5A.npy\"%(CASF_2016)\n",
    "ligs_CASF_2016=\"%s/out_ligand_CASF_2016_5A.bin\"%(CASF_2016)\n",
    "prots_CASF_2016=\"%s/out_protein_CASF_2016_5A.bin\"%(CASF_2016)\n",
    "\n",
    "pdbids = np.load(ids_CASF_2016)\n",
    "graphsl= load_graphs(ligs_CASF_2016)\n",
    "graphsp= load_graphs(prots_CASF_2016)\n",
    "graphsl = graphsl[0]\n",
    "graphsp = graphsp[0]\n",
    "\n",
    "prediction=[]\n",
    "for index,i in enumerate(pdbids):\n",
    "    bgl = dgl.batch([graphsl[index]])\n",
    "    bgp = dgl.batch([graphsp[index]])\n",
    "    bgl=bgl.to(device)\n",
    "    bgp=bgp.to(device)\n",
    "    model.to(device)\n",
    "    model.eval()\n",
    "    output_2,output_3,output_0,output_1,pred,_,_=model(bgl, bgp,bgl, bgp)\n",
    "    prediction.append(float(pred))  \n",
    "CASF_2016_target='./data/CASF_2016/CoreSet.dat'\n",
    "contents = []\n",
    "with open(CASF_2016_target, 'r') as f:\n",
    "    for line in f.readlines():\n",
    "        if line[0] != \"#\":\n",
    "            splitted_elements = line.split()\n",
    "            if len(splitted_elements) == 6:\n",
    "                contents.append(splitted_elements[:5] + splitted_elements[6:])\n",
    "            else:\n",
    "                pass\n",
    "df = pd.DataFrame(contents, columns=(\n",
    "                'pdb_code', 'resl', 'release_year',\n",
    "                'logKa', 'Ka'))\n",
    "df.head()\n",
    "df.set_index('pdb_code',inplace = True)\n",
    "\n",
    "dataframe = pd.DataFrame()\n",
    "dataframe['pdbids']=pdbids\n",
    "dataframe['prediction']=prediction\n",
    "dataframe.set_index('pdbids',inplace = True)\n",
    "dataframe.head()\n",
    "\n",
    "LogKas=[]\n",
    "for i in pdbids:\n",
    "    logKa=df.loc[i,'logKa']\n",
    "    LogKas.append(logKa)\n",
    "dataframe['logKa']=LogKas\n",
    "\n",
    "LogKas = list(map(float, LogKas))\n",
    "prediction = [round(i,2) for i in prediction]\n",
    "Pearsonr= \"{:.3f}\".format(stats.pearsonr(LogKas,prediction)[0])\n",
    "print('Pearson correlation:',Pearsonr)\n",
    "r2=r2_score(dataframe['logKa'],dataframe['prediction'])\n",
    "print('R2',r2)\n",
    "\n",
    "MSE=mean_squared_error(dataframe['logKa'],dataframe['prediction'])\n",
    "print(\"MSE:\",MSE)\n",
    "RMSE=\"{:.3f}\".format(sqrt(MSE))\n",
    "print(\"RMSE:\",RMSE)\n",
    "MAE=\"{:.4f}\".format(mean_absolute_error(dataframe['logKa'],dataframe['prediction']))\n",
    "print('MAE:',MAE)"
   ]
  },
  {
   "cell_type": "markdown",
   "id": "1b980e63",
   "metadata": {},
   "source": [
    "# CASF_2013"
   ]
  },
  {
   "cell_type": "code",
   "execution_count": 4,
   "id": "ce9ac846",
   "metadata": {
    "ExecuteTime": {
     "end_time": "2023-09-18T08:29:38.426157Z",
     "start_time": "2023-09-18T08:29:32.839344Z"
    }
   },
   "outputs": [
    {
     "name": "stdout",
     "output_type": "stream",
     "text": [
      "Pearson correlation: 0.815\n",
      "R2 0.6504438405297757\n",
      "MSE: 1.7982874405871023\n",
      "RMSE: 1.341\n",
      "MAE: 1.1115\n"
     ]
    }
   ],
   "source": [
    "model=ECIF_GNN(dropout=0)\n",
    "model.load_state_dict(torch.load(path_model),False)\n",
    "\n",
    "\n",
    "CASF_2013='./data/CASF_2013'\n",
    "ids_CASF_2013=\"%s/out_id_CASF_2013_5A.npy\"%(CASF_2013)\n",
    "ligs_CASF_2013=\"%s/out_ligand_CASF_2013_5A.bin\"%(CASF_2013)\n",
    "prots_CASF_2013=\"%s/out_protein_CASF_2013_5A.bin\"%(CASF_2013)\n",
    "\n",
    "pdbids = np.load(ids_CASF_2013)\n",
    "graphsl= load_graphs(ligs_CASF_2013)\n",
    "graphsp= load_graphs(prots_CASF_2013)\n",
    "graphsl = graphsl[0]\n",
    "graphsp = graphsp[0]\n",
    "\n",
    "prediction=[]\n",
    "for index,i in enumerate(pdbids):\n",
    "    bgl = dgl.batch([graphsl[index]])\n",
    "    bgp = dgl.batch([graphsp[index]])\n",
    "    bgl=bgl.to(device)\n",
    "    bgp=bgp.to(device)\n",
    "    model.to(device)\n",
    "    model.eval()\n",
    "    output_2,output_3,output_0,output_1,pred,_,_=model(bgl, bgp,bgl, bgp)\n",
    "    prediction.append(float(pred))\n",
    "    \n",
    "    \n",
    "CASF_2013_target='./data/CASF_2013/INDEX_core_data.2013'\n",
    "contents = []\n",
    "with open(CASF_2013_target, 'r') as f:\n",
    "    for line in f.readlines():\n",
    "        if line[0] != \"#\":\n",
    "            splitted_elements = line.split()\n",
    "            if len(splitted_elements) == 8:\n",
    "                contents.append(splitted_elements[:5] + splitted_elements[6:])\n",
    "            else:\n",
    "                pass\n",
    "df = pd.DataFrame(contents, columns=(\n",
    "                'pdb_code', 'resolution', 'release_year',\n",
    "                '-logKd/Ki', 'Kd/Ki', 'reference', 'ligand_name'))\n",
    "df.set_index('pdb_code',inplace = True)\n",
    "\n",
    "dataframe = pd.DataFrame()\n",
    "dataframe['pdbids']=pdbids\n",
    "dataframe['prediction']=prediction\n",
    "dataframe.set_index('pdbids',inplace = True)\n",
    "\n",
    "LogKas=[]\n",
    "for i in pdbids:\n",
    "    logKa=df.loc[i,'-logKd/Ki']\n",
    "    LogKas.append(logKa)\n",
    "dataframe['-logKd/Ki']=LogKas\n",
    "\n",
    "LogKas = list(map(float, LogKas))\n",
    "prediction = [round(i,2) for i in prediction]\n",
    "Pearsonr= \"{:.3f}\".format(stats.pearsonr(LogKas,prediction)[0])\n",
    "print('Pearson correlation:',Pearsonr)\n",
    "r2=r2_score(dataframe['-logKd/Ki'],dataframe['prediction'])\n",
    "print('R2',r2)\n",
    "\n",
    "MSE=mean_squared_error(dataframe['-logKd/Ki'],dataframe['prediction'])\n",
    "print(\"MSE:\",MSE)\n",
    "RMSE=\"{:.3f}\".format(sqrt(MSE))\n",
    "print(\"RMSE:\",RMSE)\n",
    "MAE=\"{:.4f}\".format(mean_absolute_error(dataframe['-logKd/Ki'],dataframe['prediction']))\n",
    "print('MAE:',MAE)"
   ]
  },
  {
   "cell_type": "code",
   "execution_count": null,
   "id": "2a60a163-ba47-47b2-8800-b046a9de7ab5",
   "metadata": {},
   "outputs": [],
   "source": []
  }
 ],
 "metadata": {
  "kernelspec": {
   "display_name": "Python 3 (ipykernel)",
   "language": "python",
   "name": "python3"
  },
  "language_info": {
   "codemirror_mode": {
    "name": "ipython",
    "version": 3
   },
   "file_extension": ".py",
   "mimetype": "text/x-python",
   "name": "python",
   "nbconvert_exporter": "python",
   "pygments_lexer": "ipython3",
   "version": "3.9.12"
  },
  "toc": {
   "base_numbering": 1,
   "nav_menu": {},
   "number_sections": true,
   "sideBar": true,
   "skip_h1_title": false,
   "title_cell": "Table of Contents",
   "title_sidebar": "Contents",
   "toc_cell": false,
   "toc_position": {},
   "toc_section_display": true,
   "toc_window_display": false
  }
 },
 "nbformat": 4,
 "nbformat_minor": 5
}
